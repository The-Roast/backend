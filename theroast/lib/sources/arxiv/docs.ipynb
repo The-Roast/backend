{
 "cells": [
  {
   "cell_type": "code",
   "execution_count": 23,
   "metadata": {},
   "outputs": [],
   "source": [
    "import arxiv\n",
    "from scholarly import scholarly"
   ]
  },
  {
   "cell_type": "code",
   "execution_count": 36,
   "metadata": {},
   "outputs": [],
   "source": [
    "search = arxiv.Search(\n",
    "    query=\"artificial intelligence\",\n",
    "    sort_by=arxiv.SortCriterion.SubmittedDate\n",
    ")"
   ]
  },
  {
   "cell_type": "code",
   "execution_count": 37,
   "metadata": {},
   "outputs": [],
   "source": [
    "c = 0\n",
    "papers: list[arxiv.Result] = []\n",
    "for result in search.results():\n",
    "    if c >= 100: break\n",
    "    if not result.journal_ref: continue\n",
    "    citations = []\n",
    "    for author in result.authors:\n",
    "        try:\n",
    "            info = next(scholarly.search_author(author.name))\n",
    "            citations.append(info.get(\"citedby\", 0))\n",
    "        except StopIteration as e:\n",
    "            citations.append(0)\n",
    "    papers.append((result, sum(citations) / len(citations)))\n",
    "    c += 1"
   ]
  },
  {
   "cell_type": "code",
   "execution_count": 40,
   "metadata": {},
   "outputs": [],
   "source": [
    "spapers = sorted(papers, reverse=True, key=lambda x: x[1])"
   ]
  },
  {
   "cell_type": "code",
   "execution_count": 52,
   "metadata": {},
   "outputs": [],
   "source": [
    "fspapers = [paper.primary_category for (paper, citation) in spapers if \"cs\" in str(paper.primary_category) or \"ML\" in str(paper.primary_category)]"
   ]
  },
  {
   "cell_type": "code",
   "execution_count": 55,
   "metadata": {},
   "outputs": [
    {
     "name": "stdout",
     "output_type": "stream",
     "text": [
      "<class 'str'>\n"
     ]
    }
   ],
   "source": [
    "print(type(spapers[0][0].primary_category))"
   ]
  },
  {
   "cell_type": "code",
   "execution_count": null,
   "metadata": {},
   "outputs": [],
   "source": []
  }
 ],
 "metadata": {
  "kernelspec": {
   "display_name": ".venv",
   "language": "python",
   "name": "python3"
  },
  "language_info": {
   "codemirror_mode": {
    "name": "ipython",
    "version": 3
   },
   "file_extension": ".py",
   "mimetype": "text/x-python",
   "name": "python",
   "nbconvert_exporter": "python",
   "pygments_lexer": "ipython3",
   "version": "3.10.12"
  },
  "orig_nbformat": 4
 },
 "nbformat": 4,
 "nbformat_minor": 2
}
